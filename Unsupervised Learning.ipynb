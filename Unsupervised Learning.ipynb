{
 "cells": [
  {
   "cell_type": "markdown",
   "id": "e4f1bb19",
   "metadata": {},
   "source": [
    "# Project Overview:"
   ]
  },
  {
   "cell_type": "markdown",
   "id": "9168df04",
   "metadata": {},
   "source": [
    "### Introduction:"
   ]
  },
  {
   "cell_type": "markdown",
   "id": "5d237b5f",
   "metadata": {},
   "source": [
    "Netflix is a popular subscription-based streaming platform that allows members to watch TV shows and movies on an internet-connected device. Users can also download TV shows and movies to their devices and watch it without internet connection. You can watch a variety of award-winning Netflix originals, TV shows, movies, documentaries, and more. With its rapid growth and diverse content offerings, it becomes crucial to leverage data analysis to understand viewer preferences, trends, and patterns. \n",
    "\n",
    "Netflix also have recommendation on TV shows and movies for their users to watch. The more you watch, the better Netflix gets at recommending TV shows and movies. So, this project is an implementation of recommendation system on Netflix dataset to predict similar TV shows and Movies based on its description genre for enhancing user satisfaction.\n",
    "\n",
    "Github URL of this project: https://github.com/Srujanaprahlad/Unsupervised-Learning"
   ]
  },
  {
   "cell_type": "markdown",
   "id": "0d66409d",
   "metadata": {},
   "source": [
    "### Goals:"
   ]
  },
  {
   "cell_type": "markdown",
   "id": "f83b84a1",
   "metadata": {},
   "source": [
    "1. To understand what content is available in different countries\n",
    "2. To examine how Netflix content has evolved over the years.\n",
    "3. To investigate if certain countries or regions have specific preferences or produce distinct types of content.\n",
    "4. To propose strategies for content recommendation based on data insights.\n",
    "5. To check what percentage of movies or TV shows on netflix are inspired from books."
   ]
  },
  {
   "cell_type": "code",
   "execution_count": 1,
   "id": "d9c17e2c",
   "metadata": {},
   "outputs": [],
   "source": [
    "import pandas as pd\n",
    "import numpy as np \n",
    "import matplotlib.pyplot as plt\n",
    "import seaborn as sns\n",
    "import matplotlib.pyplot as plt\n",
    "import datetime\n",
    "from sklearn.feature_extraction.text import TfidfVectorizer,CountVectorizer\n",
    "from sklearn.metrics.pairwise import linear_kernel,cosine_similarity"
   ]
  },
  {
   "cell_type": "markdown",
   "id": "d6037f28",
   "metadata": {},
   "source": [
    "#### Data Preprocessing:"
   ]
  },
  {
   "cell_type": "markdown",
   "id": "47cadca8",
   "metadata": {},
   "source": [
    "Data utilized for this project is provided at https://www.kaggle.com/datasets/shivamb/netflix-shows/data. This tabular dataset consists of listings of all the movies and tv shows available on Netflix, along with details such as - cast, directors, ratings, release year, duration, Genre etc. It has 8807 rows and 12 columns."
   ]
  },
  {
   "cell_type": "code",
   "execution_count": 2,
   "id": "d9e6abad",
   "metadata": {},
   "outputs": [
    {
     "data": {
      "text/html": [
       "<div>\n",
       "<style scoped>\n",
       "    .dataframe tbody tr th:only-of-type {\n",
       "        vertical-align: middle;\n",
       "    }\n",
       "\n",
       "    .dataframe tbody tr th {\n",
       "        vertical-align: top;\n",
       "    }\n",
       "\n",
       "    .dataframe thead th {\n",
       "        text-align: right;\n",
       "    }\n",
       "</style>\n",
       "<table border=\"1\" class=\"dataframe\">\n",
       "  <thead>\n",
       "    <tr style=\"text-align: right;\">\n",
       "      <th></th>\n",
       "      <th>show_id</th>\n",
       "      <th>type</th>\n",
       "      <th>title</th>\n",
       "      <th>director</th>\n",
       "      <th>cast</th>\n",
       "      <th>country</th>\n",
       "      <th>date_added</th>\n",
       "      <th>release_year</th>\n",
       "      <th>rating</th>\n",
       "      <th>duration</th>\n",
       "      <th>listed_in</th>\n",
       "      <th>description</th>\n",
       "    </tr>\n",
       "  </thead>\n",
       "  <tbody>\n",
       "    <tr>\n",
       "      <th>0</th>\n",
       "      <td>s1</td>\n",
       "      <td>Movie</td>\n",
       "      <td>Dick Johnson Is Dead</td>\n",
       "      <td>Kirsten Johnson</td>\n",
       "      <td>NaN</td>\n",
       "      <td>United States</td>\n",
       "      <td>September 25, 2021</td>\n",
       "      <td>2020</td>\n",
       "      <td>PG-13</td>\n",
       "      <td>90 min</td>\n",
       "      <td>Documentaries</td>\n",
       "      <td>As her father nears the end of his life, filmm...</td>\n",
       "    </tr>\n",
       "    <tr>\n",
       "      <th>1</th>\n",
       "      <td>s2</td>\n",
       "      <td>TV Show</td>\n",
       "      <td>Blood &amp; Water</td>\n",
       "      <td>NaN</td>\n",
       "      <td>Ama Qamata, Khosi Ngema, Gail Mabalane, Thaban...</td>\n",
       "      <td>South Africa</td>\n",
       "      <td>September 24, 2021</td>\n",
       "      <td>2021</td>\n",
       "      <td>TV-MA</td>\n",
       "      <td>2 Seasons</td>\n",
       "      <td>International TV Shows, TV Dramas, TV Mysteries</td>\n",
       "      <td>After crossing paths at a party, a Cape Town t...</td>\n",
       "    </tr>\n",
       "    <tr>\n",
       "      <th>2</th>\n",
       "      <td>s3</td>\n",
       "      <td>TV Show</td>\n",
       "      <td>Ganglands</td>\n",
       "      <td>Julien Leclercq</td>\n",
       "      <td>Sami Bouajila, Tracy Gotoas, Samuel Jouy, Nabi...</td>\n",
       "      <td>NaN</td>\n",
       "      <td>September 24, 2021</td>\n",
       "      <td>2021</td>\n",
       "      <td>TV-MA</td>\n",
       "      <td>1 Season</td>\n",
       "      <td>Crime TV Shows, International TV Shows, TV Act...</td>\n",
       "      <td>To protect his family from a powerful drug lor...</td>\n",
       "    </tr>\n",
       "    <tr>\n",
       "      <th>3</th>\n",
       "      <td>s4</td>\n",
       "      <td>TV Show</td>\n",
       "      <td>Jailbirds New Orleans</td>\n",
       "      <td>NaN</td>\n",
       "      <td>NaN</td>\n",
       "      <td>NaN</td>\n",
       "      <td>September 24, 2021</td>\n",
       "      <td>2021</td>\n",
       "      <td>TV-MA</td>\n",
       "      <td>1 Season</td>\n",
       "      <td>Docuseries, Reality TV</td>\n",
       "      <td>Feuds, flirtations and toilet talk go down amo...</td>\n",
       "    </tr>\n",
       "    <tr>\n",
       "      <th>4</th>\n",
       "      <td>s5</td>\n",
       "      <td>TV Show</td>\n",
       "      <td>Kota Factory</td>\n",
       "      <td>NaN</td>\n",
       "      <td>Mayur More, Jitendra Kumar, Ranjan Raj, Alam K...</td>\n",
       "      <td>India</td>\n",
       "      <td>September 24, 2021</td>\n",
       "      <td>2021</td>\n",
       "      <td>TV-MA</td>\n",
       "      <td>2 Seasons</td>\n",
       "      <td>International TV Shows, Romantic TV Shows, TV ...</td>\n",
       "      <td>In a city of coaching centers known to train I...</td>\n",
       "    </tr>\n",
       "    <tr>\n",
       "      <th>...</th>\n",
       "      <td>...</td>\n",
       "      <td>...</td>\n",
       "      <td>...</td>\n",
       "      <td>...</td>\n",
       "      <td>...</td>\n",
       "      <td>...</td>\n",
       "      <td>...</td>\n",
       "      <td>...</td>\n",
       "      <td>...</td>\n",
       "      <td>...</td>\n",
       "      <td>...</td>\n",
       "      <td>...</td>\n",
       "    </tr>\n",
       "    <tr>\n",
       "      <th>8802</th>\n",
       "      <td>s8803</td>\n",
       "      <td>Movie</td>\n",
       "      <td>Zodiac</td>\n",
       "      <td>David Fincher</td>\n",
       "      <td>Mark Ruffalo, Jake Gyllenhaal, Robert Downey J...</td>\n",
       "      <td>United States</td>\n",
       "      <td>November 20, 2019</td>\n",
       "      <td>2007</td>\n",
       "      <td>R</td>\n",
       "      <td>158 min</td>\n",
       "      <td>Cult Movies, Dramas, Thrillers</td>\n",
       "      <td>A political cartoonist, a crime reporter and a...</td>\n",
       "    </tr>\n",
       "    <tr>\n",
       "      <th>8803</th>\n",
       "      <td>s8804</td>\n",
       "      <td>TV Show</td>\n",
       "      <td>Zombie Dumb</td>\n",
       "      <td>NaN</td>\n",
       "      <td>NaN</td>\n",
       "      <td>NaN</td>\n",
       "      <td>July 1, 2019</td>\n",
       "      <td>2018</td>\n",
       "      <td>TV-Y7</td>\n",
       "      <td>2 Seasons</td>\n",
       "      <td>Kids' TV, Korean TV Shows, TV Comedies</td>\n",
       "      <td>While living alone in a spooky town, a young g...</td>\n",
       "    </tr>\n",
       "    <tr>\n",
       "      <th>8804</th>\n",
       "      <td>s8805</td>\n",
       "      <td>Movie</td>\n",
       "      <td>Zombieland</td>\n",
       "      <td>Ruben Fleischer</td>\n",
       "      <td>Jesse Eisenberg, Woody Harrelson, Emma Stone, ...</td>\n",
       "      <td>United States</td>\n",
       "      <td>November 1, 2019</td>\n",
       "      <td>2009</td>\n",
       "      <td>R</td>\n",
       "      <td>88 min</td>\n",
       "      <td>Comedies, Horror Movies</td>\n",
       "      <td>Looking to survive in a world taken over by zo...</td>\n",
       "    </tr>\n",
       "    <tr>\n",
       "      <th>8805</th>\n",
       "      <td>s8806</td>\n",
       "      <td>Movie</td>\n",
       "      <td>Zoom</td>\n",
       "      <td>Peter Hewitt</td>\n",
       "      <td>Tim Allen, Courteney Cox, Chevy Chase, Kate Ma...</td>\n",
       "      <td>United States</td>\n",
       "      <td>January 11, 2020</td>\n",
       "      <td>2006</td>\n",
       "      <td>PG</td>\n",
       "      <td>88 min</td>\n",
       "      <td>Children &amp; Family Movies, Comedies</td>\n",
       "      <td>Dragged from civilian life, a former superhero...</td>\n",
       "    </tr>\n",
       "    <tr>\n",
       "      <th>8806</th>\n",
       "      <td>s8807</td>\n",
       "      <td>Movie</td>\n",
       "      <td>Zubaan</td>\n",
       "      <td>Mozez Singh</td>\n",
       "      <td>Vicky Kaushal, Sarah-Jane Dias, Raaghav Chanan...</td>\n",
       "      <td>India</td>\n",
       "      <td>March 2, 2019</td>\n",
       "      <td>2015</td>\n",
       "      <td>TV-14</td>\n",
       "      <td>111 min</td>\n",
       "      <td>Dramas, International Movies, Music &amp; Musicals</td>\n",
       "      <td>A scrappy but poor boy worms his way into a ty...</td>\n",
       "    </tr>\n",
       "  </tbody>\n",
       "</table>\n",
       "<p>8807 rows × 12 columns</p>\n",
       "</div>"
      ],
      "text/plain": [
       "     show_id     type                  title         director  \\\n",
       "0         s1    Movie   Dick Johnson Is Dead  Kirsten Johnson   \n",
       "1         s2  TV Show          Blood & Water              NaN   \n",
       "2         s3  TV Show              Ganglands  Julien Leclercq   \n",
       "3         s4  TV Show  Jailbirds New Orleans              NaN   \n",
       "4         s5  TV Show           Kota Factory              NaN   \n",
       "...      ...      ...                    ...              ...   \n",
       "8802   s8803    Movie                 Zodiac    David Fincher   \n",
       "8803   s8804  TV Show            Zombie Dumb              NaN   \n",
       "8804   s8805    Movie             Zombieland  Ruben Fleischer   \n",
       "8805   s8806    Movie                   Zoom     Peter Hewitt   \n",
       "8806   s8807    Movie                 Zubaan      Mozez Singh   \n",
       "\n",
       "                                                   cast        country  \\\n",
       "0                                                   NaN  United States   \n",
       "1     Ama Qamata, Khosi Ngema, Gail Mabalane, Thaban...   South Africa   \n",
       "2     Sami Bouajila, Tracy Gotoas, Samuel Jouy, Nabi...            NaN   \n",
       "3                                                   NaN            NaN   \n",
       "4     Mayur More, Jitendra Kumar, Ranjan Raj, Alam K...          India   \n",
       "...                                                 ...            ...   \n",
       "8802  Mark Ruffalo, Jake Gyllenhaal, Robert Downey J...  United States   \n",
       "8803                                                NaN            NaN   \n",
       "8804  Jesse Eisenberg, Woody Harrelson, Emma Stone, ...  United States   \n",
       "8805  Tim Allen, Courteney Cox, Chevy Chase, Kate Ma...  United States   \n",
       "8806  Vicky Kaushal, Sarah-Jane Dias, Raaghav Chanan...          India   \n",
       "\n",
       "              date_added  release_year rating   duration  \\\n",
       "0     September 25, 2021          2020  PG-13     90 min   \n",
       "1     September 24, 2021          2021  TV-MA  2 Seasons   \n",
       "2     September 24, 2021          2021  TV-MA   1 Season   \n",
       "3     September 24, 2021          2021  TV-MA   1 Season   \n",
       "4     September 24, 2021          2021  TV-MA  2 Seasons   \n",
       "...                  ...           ...    ...        ...   \n",
       "8802   November 20, 2019          2007      R    158 min   \n",
       "8803        July 1, 2019          2018  TV-Y7  2 Seasons   \n",
       "8804    November 1, 2019          2009      R     88 min   \n",
       "8805    January 11, 2020          2006     PG     88 min   \n",
       "8806       March 2, 2019          2015  TV-14    111 min   \n",
       "\n",
       "                                              listed_in  \\\n",
       "0                                         Documentaries   \n",
       "1       International TV Shows, TV Dramas, TV Mysteries   \n",
       "2     Crime TV Shows, International TV Shows, TV Act...   \n",
       "3                                Docuseries, Reality TV   \n",
       "4     International TV Shows, Romantic TV Shows, TV ...   \n",
       "...                                                 ...   \n",
       "8802                     Cult Movies, Dramas, Thrillers   \n",
       "8803             Kids' TV, Korean TV Shows, TV Comedies   \n",
       "8804                            Comedies, Horror Movies   \n",
       "8805                 Children & Family Movies, Comedies   \n",
       "8806     Dramas, International Movies, Music & Musicals   \n",
       "\n",
       "                                            description  \n",
       "0     As her father nears the end of his life, filmm...  \n",
       "1     After crossing paths at a party, a Cape Town t...  \n",
       "2     To protect his family from a powerful drug lor...  \n",
       "3     Feuds, flirtations and toilet talk go down amo...  \n",
       "4     In a city of coaching centers known to train I...  \n",
       "...                                                 ...  \n",
       "8802  A political cartoonist, a crime reporter and a...  \n",
       "8803  While living alone in a spooky town, a young g...  \n",
       "8804  Looking to survive in a world taken over by zo...  \n",
       "8805  Dragged from civilian life, a former superhero...  \n",
       "8806  A scrappy but poor boy worms his way into a ty...  \n",
       "\n",
       "[8807 rows x 12 columns]"
      ]
     },
     "execution_count": 2,
     "metadata": {},
     "output_type": "execute_result"
    }
   ],
   "source": [
    "data = pd.read_csv('/Users/srujanapalli/Desktop/netflix_titles.csv')\n",
    "data"
   ]
  },
  {
   "cell_type": "code",
   "execution_count": 3,
   "id": "4b9e3902",
   "metadata": {},
   "outputs": [
    {
     "name": "stdout",
     "output_type": "stream",
     "text": [
      "<class 'pandas.core.frame.DataFrame'>\n",
      "RangeIndex: 8807 entries, 0 to 8806\n",
      "Data columns (total 12 columns):\n",
      " #   Column        Non-Null Count  Dtype \n",
      "---  ------        --------------  ----- \n",
      " 0   show_id       8807 non-null   object\n",
      " 1   type          8807 non-null   object\n",
      " 2   title         8807 non-null   object\n",
      " 3   director      6173 non-null   object\n",
      " 4   cast          7982 non-null   object\n",
      " 5   country       7976 non-null   object\n",
      " 6   date_added    8797 non-null   object\n",
      " 7   release_year  8807 non-null   int64 \n",
      " 8   rating        8803 non-null   object\n",
      " 9   duration      8804 non-null   object\n",
      " 10  listed_in     8807 non-null   object\n",
      " 11  description   8807 non-null   object\n",
      "dtypes: int64(1), object(11)\n",
      "memory usage: 825.8+ KB\n"
     ]
    }
   ],
   "source": [
    "data.info()"
   ]
  },
  {
   "cell_type": "markdown",
   "id": "f89c0a5f",
   "metadata": {},
   "source": [
    "We notice that, most of the columns are text and some columns have missing values. Only release_year column has numerical data. "
   ]
  },
  {
   "cell_type": "code",
   "execution_count": 4,
   "id": "871ad627",
   "metadata": {},
   "outputs": [
    {
     "data": {
      "text/html": [
       "<div>\n",
       "<style scoped>\n",
       "    .dataframe tbody tr th:only-of-type {\n",
       "        vertical-align: middle;\n",
       "    }\n",
       "\n",
       "    .dataframe tbody tr th {\n",
       "        vertical-align: top;\n",
       "    }\n",
       "\n",
       "    .dataframe thead th {\n",
       "        text-align: right;\n",
       "    }\n",
       "</style>\n",
       "<table border=\"1\" class=\"dataframe\">\n",
       "  <thead>\n",
       "    <tr style=\"text-align: right;\">\n",
       "      <th></th>\n",
       "      <th>id</th>\n",
       "      <th>book_id</th>\n",
       "      <th>best_book_id</th>\n",
       "      <th>work_id</th>\n",
       "      <th>books_count</th>\n",
       "      <th>isbn</th>\n",
       "      <th>isbn13</th>\n",
       "      <th>authors</th>\n",
       "      <th>original_publication_year</th>\n",
       "      <th>original_title</th>\n",
       "      <th>...</th>\n",
       "      <th>ratings_count</th>\n",
       "      <th>work_ratings_count</th>\n",
       "      <th>work_text_reviews_count</th>\n",
       "      <th>ratings_1</th>\n",
       "      <th>ratings_2</th>\n",
       "      <th>ratings_3</th>\n",
       "      <th>ratings_4</th>\n",
       "      <th>ratings_5</th>\n",
       "      <th>image_url</th>\n",
       "      <th>small_image_url</th>\n",
       "    </tr>\n",
       "  </thead>\n",
       "  <tbody>\n",
       "    <tr>\n",
       "      <th>0</th>\n",
       "      <td>1</td>\n",
       "      <td>2767052</td>\n",
       "      <td>2767052</td>\n",
       "      <td>2792775</td>\n",
       "      <td>272</td>\n",
       "      <td>439023483</td>\n",
       "      <td>9.780439e+12</td>\n",
       "      <td>Suzanne Collins</td>\n",
       "      <td>2008.0</td>\n",
       "      <td>The Hunger Games</td>\n",
       "      <td>...</td>\n",
       "      <td>4780653</td>\n",
       "      <td>4942365</td>\n",
       "      <td>155254</td>\n",
       "      <td>66715</td>\n",
       "      <td>127936</td>\n",
       "      <td>560092</td>\n",
       "      <td>1481305</td>\n",
       "      <td>2706317</td>\n",
       "      <td>https://images.gr-assets.com/books/1447303603m...</td>\n",
       "      <td>https://images.gr-assets.com/books/1447303603s...</td>\n",
       "    </tr>\n",
       "    <tr>\n",
       "      <th>1</th>\n",
       "      <td>2</td>\n",
       "      <td>3</td>\n",
       "      <td>3</td>\n",
       "      <td>4640799</td>\n",
       "      <td>491</td>\n",
       "      <td>439554934</td>\n",
       "      <td>9.780440e+12</td>\n",
       "      <td>J.K. Rowling, Mary GrandPré</td>\n",
       "      <td>1997.0</td>\n",
       "      <td>Harry Potter and the Philosopher's Stone</td>\n",
       "      <td>...</td>\n",
       "      <td>4602479</td>\n",
       "      <td>4800065</td>\n",
       "      <td>75867</td>\n",
       "      <td>75504</td>\n",
       "      <td>101676</td>\n",
       "      <td>455024</td>\n",
       "      <td>1156318</td>\n",
       "      <td>3011543</td>\n",
       "      <td>https://images.gr-assets.com/books/1474154022m...</td>\n",
       "      <td>https://images.gr-assets.com/books/1474154022s...</td>\n",
       "    </tr>\n",
       "    <tr>\n",
       "      <th>2</th>\n",
       "      <td>3</td>\n",
       "      <td>41865</td>\n",
       "      <td>41865</td>\n",
       "      <td>3212258</td>\n",
       "      <td>226</td>\n",
       "      <td>316015849</td>\n",
       "      <td>9.780316e+12</td>\n",
       "      <td>Stephenie Meyer</td>\n",
       "      <td>2005.0</td>\n",
       "      <td>Twilight</td>\n",
       "      <td>...</td>\n",
       "      <td>3866839</td>\n",
       "      <td>3916824</td>\n",
       "      <td>95009</td>\n",
       "      <td>456191</td>\n",
       "      <td>436802</td>\n",
       "      <td>793319</td>\n",
       "      <td>875073</td>\n",
       "      <td>1355439</td>\n",
       "      <td>https://images.gr-assets.com/books/1361039443m...</td>\n",
       "      <td>https://images.gr-assets.com/books/1361039443s...</td>\n",
       "    </tr>\n",
       "    <tr>\n",
       "      <th>3</th>\n",
       "      <td>4</td>\n",
       "      <td>2657</td>\n",
       "      <td>2657</td>\n",
       "      <td>3275794</td>\n",
       "      <td>487</td>\n",
       "      <td>61120081</td>\n",
       "      <td>9.780061e+12</td>\n",
       "      <td>Harper Lee</td>\n",
       "      <td>1960.0</td>\n",
       "      <td>To Kill a Mockingbird</td>\n",
       "      <td>...</td>\n",
       "      <td>3198671</td>\n",
       "      <td>3340896</td>\n",
       "      <td>72586</td>\n",
       "      <td>60427</td>\n",
       "      <td>117415</td>\n",
       "      <td>446835</td>\n",
       "      <td>1001952</td>\n",
       "      <td>1714267</td>\n",
       "      <td>https://images.gr-assets.com/books/1361975680m...</td>\n",
       "      <td>https://images.gr-assets.com/books/1361975680s...</td>\n",
       "    </tr>\n",
       "    <tr>\n",
       "      <th>4</th>\n",
       "      <td>5</td>\n",
       "      <td>4671</td>\n",
       "      <td>4671</td>\n",
       "      <td>245494</td>\n",
       "      <td>1356</td>\n",
       "      <td>743273567</td>\n",
       "      <td>9.780743e+12</td>\n",
       "      <td>F. Scott Fitzgerald</td>\n",
       "      <td>1925.0</td>\n",
       "      <td>The Great Gatsby</td>\n",
       "      <td>...</td>\n",
       "      <td>2683664</td>\n",
       "      <td>2773745</td>\n",
       "      <td>51992</td>\n",
       "      <td>86236</td>\n",
       "      <td>197621</td>\n",
       "      <td>606158</td>\n",
       "      <td>936012</td>\n",
       "      <td>947718</td>\n",
       "      <td>https://images.gr-assets.com/books/1490528560m...</td>\n",
       "      <td>https://images.gr-assets.com/books/1490528560s...</td>\n",
       "    </tr>\n",
       "    <tr>\n",
       "      <th>...</th>\n",
       "      <td>...</td>\n",
       "      <td>...</td>\n",
       "      <td>...</td>\n",
       "      <td>...</td>\n",
       "      <td>...</td>\n",
       "      <td>...</td>\n",
       "      <td>...</td>\n",
       "      <td>...</td>\n",
       "      <td>...</td>\n",
       "      <td>...</td>\n",
       "      <td>...</td>\n",
       "      <td>...</td>\n",
       "      <td>...</td>\n",
       "      <td>...</td>\n",
       "      <td>...</td>\n",
       "      <td>...</td>\n",
       "      <td>...</td>\n",
       "      <td>...</td>\n",
       "      <td>...</td>\n",
       "      <td>...</td>\n",
       "      <td>...</td>\n",
       "    </tr>\n",
       "    <tr>\n",
       "      <th>9995</th>\n",
       "      <td>9996</td>\n",
       "      <td>7130616</td>\n",
       "      <td>7130616</td>\n",
       "      <td>7392860</td>\n",
       "      <td>19</td>\n",
       "      <td>441019455</td>\n",
       "      <td>9.780441e+12</td>\n",
       "      <td>Ilona Andrews</td>\n",
       "      <td>2010.0</td>\n",
       "      <td>Bayou Moon</td>\n",
       "      <td>...</td>\n",
       "      <td>17204</td>\n",
       "      <td>18856</td>\n",
       "      <td>1180</td>\n",
       "      <td>105</td>\n",
       "      <td>575</td>\n",
       "      <td>3538</td>\n",
       "      <td>7860</td>\n",
       "      <td>6778</td>\n",
       "      <td>https://images.gr-assets.com/books/1307445460m...</td>\n",
       "      <td>https://images.gr-assets.com/books/1307445460s...</td>\n",
       "    </tr>\n",
       "    <tr>\n",
       "      <th>9996</th>\n",
       "      <td>9997</td>\n",
       "      <td>208324</td>\n",
       "      <td>208324</td>\n",
       "      <td>1084709</td>\n",
       "      <td>19</td>\n",
       "      <td>067973371X</td>\n",
       "      <td>9.780680e+12</td>\n",
       "      <td>Robert A. Caro</td>\n",
       "      <td>1990.0</td>\n",
       "      <td>Means of Ascent</td>\n",
       "      <td>...</td>\n",
       "      <td>12582</td>\n",
       "      <td>12952</td>\n",
       "      <td>395</td>\n",
       "      <td>303</td>\n",
       "      <td>551</td>\n",
       "      <td>1737</td>\n",
       "      <td>3389</td>\n",
       "      <td>6972</td>\n",
       "      <td>https://s.gr-assets.com/assets/nophoto/book/11...</td>\n",
       "      <td>https://s.gr-assets.com/assets/nophoto/book/50...</td>\n",
       "    </tr>\n",
       "    <tr>\n",
       "      <th>9997</th>\n",
       "      <td>9998</td>\n",
       "      <td>77431</td>\n",
       "      <td>77431</td>\n",
       "      <td>2393986</td>\n",
       "      <td>60</td>\n",
       "      <td>039330762X</td>\n",
       "      <td>9.780393e+12</td>\n",
       "      <td>Patrick O'Brian</td>\n",
       "      <td>1977.0</td>\n",
       "      <td>The Mauritius Command</td>\n",
       "      <td>...</td>\n",
       "      <td>9421</td>\n",
       "      <td>10733</td>\n",
       "      <td>374</td>\n",
       "      <td>11</td>\n",
       "      <td>111</td>\n",
       "      <td>1191</td>\n",
       "      <td>4240</td>\n",
       "      <td>5180</td>\n",
       "      <td>https://images.gr-assets.com/books/1455373531m...</td>\n",
       "      <td>https://images.gr-assets.com/books/1455373531s...</td>\n",
       "    </tr>\n",
       "    <tr>\n",
       "      <th>9998</th>\n",
       "      <td>9999</td>\n",
       "      <td>8565083</td>\n",
       "      <td>8565083</td>\n",
       "      <td>13433613</td>\n",
       "      <td>7</td>\n",
       "      <td>61711527</td>\n",
       "      <td>9.780062e+12</td>\n",
       "      <td>Peggy Orenstein</td>\n",
       "      <td>2011.0</td>\n",
       "      <td>Cinderella Ate My Daughter: Dispatches from th...</td>\n",
       "      <td>...</td>\n",
       "      <td>11279</td>\n",
       "      <td>11994</td>\n",
       "      <td>1988</td>\n",
       "      <td>275</td>\n",
       "      <td>1002</td>\n",
       "      <td>3765</td>\n",
       "      <td>4577</td>\n",
       "      <td>2375</td>\n",
       "      <td>https://images.gr-assets.com/books/1279214118m...</td>\n",
       "      <td>https://images.gr-assets.com/books/1279214118s...</td>\n",
       "    </tr>\n",
       "    <tr>\n",
       "      <th>9999</th>\n",
       "      <td>10000</td>\n",
       "      <td>8914</td>\n",
       "      <td>8914</td>\n",
       "      <td>11817</td>\n",
       "      <td>31</td>\n",
       "      <td>375700455</td>\n",
       "      <td>9.780376e+12</td>\n",
       "      <td>John Keegan</td>\n",
       "      <td>1998.0</td>\n",
       "      <td>The First World War</td>\n",
       "      <td>...</td>\n",
       "      <td>9162</td>\n",
       "      <td>9700</td>\n",
       "      <td>364</td>\n",
       "      <td>117</td>\n",
       "      <td>345</td>\n",
       "      <td>2031</td>\n",
       "      <td>4138</td>\n",
       "      <td>3069</td>\n",
       "      <td>https://images.gr-assets.com/books/1403194704m...</td>\n",
       "      <td>https://images.gr-assets.com/books/1403194704s...</td>\n",
       "    </tr>\n",
       "  </tbody>\n",
       "</table>\n",
       "<p>10000 rows × 23 columns</p>\n",
       "</div>"
      ],
      "text/plain": [
       "         id  book_id  best_book_id   work_id  books_count        isbn  \\\n",
       "0         1  2767052       2767052   2792775          272   439023483   \n",
       "1         2        3             3   4640799          491   439554934   \n",
       "2         3    41865         41865   3212258          226   316015849   \n",
       "3         4     2657          2657   3275794          487    61120081   \n",
       "4         5     4671          4671    245494         1356   743273567   \n",
       "...     ...      ...           ...       ...          ...         ...   \n",
       "9995   9996  7130616       7130616   7392860           19   441019455   \n",
       "9996   9997   208324        208324   1084709           19  067973371X   \n",
       "9997   9998    77431         77431   2393986           60  039330762X   \n",
       "9998   9999  8565083       8565083  13433613            7    61711527   \n",
       "9999  10000     8914          8914     11817           31   375700455   \n",
       "\n",
       "            isbn13                      authors  original_publication_year  \\\n",
       "0     9.780439e+12              Suzanne Collins                     2008.0   \n",
       "1     9.780440e+12  J.K. Rowling, Mary GrandPré                     1997.0   \n",
       "2     9.780316e+12              Stephenie Meyer                     2005.0   \n",
       "3     9.780061e+12                   Harper Lee                     1960.0   \n",
       "4     9.780743e+12          F. Scott Fitzgerald                     1925.0   \n",
       "...            ...                          ...                        ...   \n",
       "9995  9.780441e+12                Ilona Andrews                     2010.0   \n",
       "9996  9.780680e+12               Robert A. Caro                     1990.0   \n",
       "9997  9.780393e+12              Patrick O'Brian                     1977.0   \n",
       "9998  9.780062e+12              Peggy Orenstein                     2011.0   \n",
       "9999  9.780376e+12                  John Keegan                     1998.0   \n",
       "\n",
       "                                         original_title  ... ratings_count  \\\n",
       "0                                      The Hunger Games  ...       4780653   \n",
       "1              Harry Potter and the Philosopher's Stone  ...       4602479   \n",
       "2                                              Twilight  ...       3866839   \n",
       "3                                 To Kill a Mockingbird  ...       3198671   \n",
       "4                                      The Great Gatsby  ...       2683664   \n",
       "...                                                 ...  ...           ...   \n",
       "9995                                         Bayou Moon  ...         17204   \n",
       "9996                                   Means of Ascent   ...         12582   \n",
       "9997                              The Mauritius Command  ...          9421   \n",
       "9998  Cinderella Ate My Daughter: Dispatches from th...  ...         11279   \n",
       "9999                                The First World War  ...          9162   \n",
       "\n",
       "     work_ratings_count  work_text_reviews_count  ratings_1  ratings_2  \\\n",
       "0               4942365                   155254      66715     127936   \n",
       "1               4800065                    75867      75504     101676   \n",
       "2               3916824                    95009     456191     436802   \n",
       "3               3340896                    72586      60427     117415   \n",
       "4               2773745                    51992      86236     197621   \n",
       "...                 ...                      ...        ...        ...   \n",
       "9995              18856                     1180        105        575   \n",
       "9996              12952                      395        303        551   \n",
       "9997              10733                      374         11        111   \n",
       "9998              11994                     1988        275       1002   \n",
       "9999               9700                      364        117        345   \n",
       "\n",
       "      ratings_3  ratings_4  ratings_5  \\\n",
       "0        560092    1481305    2706317   \n",
       "1        455024    1156318    3011543   \n",
       "2        793319     875073    1355439   \n",
       "3        446835    1001952    1714267   \n",
       "4        606158     936012     947718   \n",
       "...         ...        ...        ...   \n",
       "9995       3538       7860       6778   \n",
       "9996       1737       3389       6972   \n",
       "9997       1191       4240       5180   \n",
       "9998       3765       4577       2375   \n",
       "9999       2031       4138       3069   \n",
       "\n",
       "                                              image_url  \\\n",
       "0     https://images.gr-assets.com/books/1447303603m...   \n",
       "1     https://images.gr-assets.com/books/1474154022m...   \n",
       "2     https://images.gr-assets.com/books/1361039443m...   \n",
       "3     https://images.gr-assets.com/books/1361975680m...   \n",
       "4     https://images.gr-assets.com/books/1490528560m...   \n",
       "...                                                 ...   \n",
       "9995  https://images.gr-assets.com/books/1307445460m...   \n",
       "9996  https://s.gr-assets.com/assets/nophoto/book/11...   \n",
       "9997  https://images.gr-assets.com/books/1455373531m...   \n",
       "9998  https://images.gr-assets.com/books/1279214118m...   \n",
       "9999  https://images.gr-assets.com/books/1403194704m...   \n",
       "\n",
       "                                        small_image_url  \n",
       "0     https://images.gr-assets.com/books/1447303603s...  \n",
       "1     https://images.gr-assets.com/books/1474154022s...  \n",
       "2     https://images.gr-assets.com/books/1361039443s...  \n",
       "3     https://images.gr-assets.com/books/1361975680s...  \n",
       "4     https://images.gr-assets.com/books/1490528560s...  \n",
       "...                                                 ...  \n",
       "9995  https://images.gr-assets.com/books/1307445460s...  \n",
       "9996  https://s.gr-assets.com/assets/nophoto/book/50...  \n",
       "9997  https://images.gr-assets.com/books/1455373531s...  \n",
       "9998  https://images.gr-assets.com/books/1279214118s...  \n",
       "9999  https://images.gr-assets.com/books/1403194704s...  \n",
       "\n",
       "[10000 rows x 23 columns]"
      ]
     },
     "execution_count": 4,
     "metadata": {},
     "output_type": "execute_result"
    }
   ],
   "source": [
    "books = pd.read_csv('/Users/srujanapalli/Desktop/books.csv')\n",
    "books"
   ]
  },
  {
   "cell_type": "code",
   "execution_count": 5,
   "id": "d8f12069",
   "metadata": {},
   "outputs": [
    {
     "name": "stdout",
     "output_type": "stream",
     "text": [
      "<class 'pandas.core.frame.DataFrame'>\n",
      "RangeIndex: 10000 entries, 0 to 9999\n",
      "Data columns (total 23 columns):\n",
      " #   Column                     Non-Null Count  Dtype  \n",
      "---  ------                     --------------  -----  \n",
      " 0   id                         10000 non-null  int64  \n",
      " 1   book_id                    10000 non-null  int64  \n",
      " 2   best_book_id               10000 non-null  int64  \n",
      " 3   work_id                    10000 non-null  int64  \n",
      " 4   books_count                10000 non-null  int64  \n",
      " 5   isbn                       9300 non-null   object \n",
      " 6   isbn13                     9415 non-null   float64\n",
      " 7   authors                    10000 non-null  object \n",
      " 8   original_publication_year  9979 non-null   float64\n",
      " 9   original_title             9415 non-null   object \n",
      " 10  title                      10000 non-null  object \n",
      " 11  language_code              8916 non-null   object \n",
      " 12  average_rating             10000 non-null  float64\n",
      " 13  ratings_count              10000 non-null  int64  \n",
      " 14  work_ratings_count         10000 non-null  int64  \n",
      " 15  work_text_reviews_count    10000 non-null  int64  \n",
      " 16  ratings_1                  10000 non-null  int64  \n",
      " 17  ratings_2                  10000 non-null  int64  \n",
      " 18  ratings_3                  10000 non-null  int64  \n",
      " 19  ratings_4                  10000 non-null  int64  \n",
      " 20  ratings_5                  10000 non-null  int64  \n",
      " 21  image_url                  10000 non-null  object \n",
      " 22  small_image_url            10000 non-null  object \n",
      "dtypes: float64(3), int64(13), object(7)\n",
      "memory usage: 1.8+ MB\n"
     ]
    }
   ],
   "source": [
    "books.info()"
   ]
  },
  {
   "cell_type": "markdown",
   "id": "d17c9c8f",
   "metadata": {},
   "source": [
    "We notice that most of the columns have no missing values. We need to find any duplicate values and missing values are present."
   ]
  },
  {
   "cell_type": "markdown",
   "id": "e8c879d3",
   "metadata": {},
   "source": [
    "### Exploratory Data Analysis"
   ]
  },
  {
   "cell_type": "code",
   "execution_count": 6,
   "id": "147f9503",
   "metadata": {},
   "outputs": [
    {
     "name": "stdout",
     "output_type": "stream",
     "text": [
      "0       False\n",
      "1       False\n",
      "2       False\n",
      "3       False\n",
      "4       False\n",
      "        ...  \n",
      "8802    False\n",
      "8803    False\n",
      "8804    False\n",
      "8805    False\n",
      "8806    False\n",
      "Length: 8807, dtype: bool\n"
     ]
    }
   ],
   "source": [
    "print(data.duplicated())"
   ]
  },
  {
   "cell_type": "code",
   "execution_count": 7,
   "id": "4adf2990",
   "metadata": {},
   "outputs": [
    {
     "name": "stdout",
     "output_type": "stream",
     "text": [
      "0       False\n",
      "1       False\n",
      "2       False\n",
      "3       False\n",
      "4       False\n",
      "        ...  \n",
      "9995    False\n",
      "9996    False\n",
      "9997    False\n",
      "9998    False\n",
      "9999    False\n",
      "Length: 10000, dtype: bool\n"
     ]
    }
   ],
   "source": [
    "print(books.duplicated())"
   ]
  },
  {
   "cell_type": "markdown",
   "id": "86459931",
   "metadata": {},
   "source": [
    "data and books does not have any duplicate values."
   ]
  },
  {
   "cell_type": "code",
   "execution_count": 8,
   "id": "23d1f118",
   "metadata": {},
   "outputs": [
    {
     "name": "stdout",
     "output_type": "stream",
     "text": [
      "show_id            0\n",
      "type               0\n",
      "title              0\n",
      "director        2634\n",
      "cast             825\n",
      "country          831\n",
      "date_added        10\n",
      "release_year       0\n",
      "rating             4\n",
      "duration           3\n",
      "listed_in          0\n",
      "description        0\n",
      "dtype: int64\n"
     ]
    }
   ],
   "source": [
    "print(data.isnull().sum())"
   ]
  },
  {
   "cell_type": "markdown",
   "id": "8daf3a7b",
   "metadata": {},
   "source": [
    "`director` column of the data has most number of missing values (2634) followed by `country` and `cast` columns with 831 and 825 missing values respectively."
   ]
  },
  {
   "cell_type": "code",
   "execution_count": 9,
   "id": "2f3c0b23",
   "metadata": {},
   "outputs": [
    {
     "name": "stdout",
     "output_type": "stream",
     "text": [
      "id                              0\n",
      "book_id                         0\n",
      "best_book_id                    0\n",
      "work_id                         0\n",
      "books_count                     0\n",
      "isbn                          700\n",
      "isbn13                        585\n",
      "authors                         0\n",
      "original_publication_year      21\n",
      "original_title                585\n",
      "title                           0\n",
      "language_code                1084\n",
      "average_rating                  0\n",
      "ratings_count                   0\n",
      "work_ratings_count              0\n",
      "work_text_reviews_count         0\n",
      "ratings_1                       0\n",
      "ratings_2                       0\n",
      "ratings_3                       0\n",
      "ratings_4                       0\n",
      "ratings_5                       0\n",
      "image_url                       0\n",
      "small_image_url                 0\n",
      "dtype: int64\n"
     ]
    }
   ],
   "source": [
    "print(books.isnull().sum())"
   ]
  },
  {
   "cell_type": "markdown",
   "id": "fa80f4e5",
   "metadata": {},
   "source": [
    "`language_code`,`isbn`,`isbn13`,`original_title` column has most number of missing values. "
   ]
  },
  {
   "cell_type": "markdown",
   "id": "ae1dd628",
   "metadata": {},
   "source": [
    "`date_added` column is in the format of Month-Date-Year where month is a string. In order to make our calculations easier, we need to convert into datetime64 format using datatime library."
   ]
  },
  {
   "cell_type": "code",
   "execution_count": 10,
   "id": "91973755",
   "metadata": {},
   "outputs": [
    {
     "data": {
      "text/plain": [
       "0      2021-09-25\n",
       "1      2021-09-24\n",
       "2      2021-09-24\n",
       "3      2021-09-24\n",
       "4      2021-09-24\n",
       "          ...    \n",
       "8802   2019-11-20\n",
       "8803   2019-07-01\n",
       "8804   2019-11-01\n",
       "8805   2020-01-11\n",
       "8806   2019-03-02\n",
       "Name: date_added, Length: 8807, dtype: datetime64[ns]"
      ]
     },
     "execution_count": 10,
     "metadata": {},
     "output_type": "execute_result"
    }
   ],
   "source": [
    "data[\"date_added\"] = pd.to_datetime(data['date_added'], format='%B %d, %Y', errors='coerce')\n",
    "data['Month_uploaded']= data['date_added'].dt.month\n",
    "data['Year_uploaded'] = data['date_added'].dt.year\n",
    "data['MonthName']= data['date_added'].dt.month_name()\n",
    "data[\"date_added\"]"
   ]
  },
  {
   "cell_type": "markdown",
   "id": "eff89351",
   "metadata": {},
   "source": [
    "In order to fill the missing values, we replace the values by NA. We drop the rows in `rating`, `duration` and `date_added` which have missing values."
   ]
  },
  {
   "cell_type": "code",
   "execution_count": 11,
   "id": "0128326f",
   "metadata": {},
   "outputs": [],
   "source": [
    "data = data.dropna(thresh=3)\n",
    "\n",
    "data.dropna(subset=['rating', 'duration','date_added'], inplace=True)\n",
    "data['director'].replace(np.nan, 'NA',inplace  = True)\n",
    "data['cast'].replace(np.nan, 'NA',inplace  = True)\n",
    "data['country'].replace(np.nan, 'NA',inplace  = True)\n",
    "\n",
    "books.drop_duplicates(subset='original_title',keep=False,inplace=True)"
   ]
  },
  {
   "cell_type": "code",
   "execution_count": 12,
   "id": "d155ddf6",
   "metadata": {},
   "outputs": [
    {
     "data": {
      "text/plain": [
       "show_id           0\n",
       "type              0\n",
       "title             0\n",
       "director          0\n",
       "cast              0\n",
       "country           0\n",
       "date_added        0\n",
       "release_year      0\n",
       "rating            0\n",
       "duration          0\n",
       "listed_in         0\n",
       "description       0\n",
       "Month_uploaded    0\n",
       "Year_uploaded     0\n",
       "MonthName         0\n",
       "dtype: int64"
      ]
     },
     "execution_count": 12,
     "metadata": {},
     "output_type": "execute_result"
    }
   ],
   "source": [
    "data.isnull().sum()"
   ]
  },
  {
   "cell_type": "markdown",
   "id": "81f5f9cf",
   "metadata": {},
   "source": [
    "data has no missing values."
   ]
  },
  {
   "cell_type": "code",
   "execution_count": 13,
   "id": "8ec067a7",
   "metadata": {},
   "outputs": [
    {
     "data": {
      "text/plain": [
       "Text(0.5, 0, 'Release Year')"
      ]
     },
     "execution_count": 13,
     "metadata": {},
     "output_type": "execute_result"
    },
    {
     "data": {
      "image/png": "[encoded data removed]",
      "text/plain": [
       "<Figure size 432x288 with 1 Axes>"
      ]
     },
     "metadata": {
      "needs_background": "light"
     },
     "output_type": "display_data"
    }
   ],
   "source": [
    "sns.boxplot(x=data['release_year'])\n",
    "plt.title('Outlier Identification')\n",
    "plt.xlabel('Release Year')"
   ]
  },
  {
   "cell_type": "code",
   "execution_count": 14,
   "id": "9e4a1cfb",
   "metadata": {},
   "outputs": [
    {
     "name": "stdout",
     "output_type": "stream",
     "text": [
      "Total Number of the Outliers in the release_year are 711\n"
     ]
    }
   ],
   "source": [
    "Q1 = data['release_year'].quantile(0.25) \n",
    "Q3 = data['release_year'].quantile(0.75)\n",
    "IQR = Q3 - Q1 \n",
    "\n",
    "lowOutlier = Q1 - 1.5 * IQR\n",
    "highOutlier = Q3 + 1.5 * IQR\n",
    "totalOutlier = ((data['release_year'] < lowOutlier) | (data['release_year'] > highOutlier)).sum()\n",
    "print(\"Total Number of the Outliers in the release_year are {}\".format(totalOutlier))\n"
   ]
  },
  {
   "cell_type": "markdown",
   "id": "7533a18c",
   "metadata": {},
   "source": [
    "There are a total of 711 outliers. Removing outliers can lead to a more robust analysis, hence we will remove the outliers."
   ]
  },
  {
   "cell_type": "code",
   "execution_count": 15,
   "id": "fc14051e",
   "metadata": {},
   "outputs": [
    {
     "name": "stdout",
     "output_type": "stream",
     "text": [
      "Total Number of Outliers in the release_year are 0\n"
     ]
    }
   ],
   "source": [
    "data = data[(data[\"release_year\"] < highOutlier) & (data[\"release_year\"] > lowOutlier)]\n",
    "\n",
    "totalOutlier = ((data['release_year'] < lowOutlier) | (data['release_year'] > highOutlier)).sum()\n",
    "print(\"Total Number of Outliers in the release_year are {}\".format(totalOutlier))\n"
   ]
  },
  {
   "cell_type": "code",
   "execution_count": 16,
   "id": "c00bb542",
   "metadata": {},
   "outputs": [
    {
     "name": "stdout",
     "output_type": "stream",
     "text": [
      "<class 'pandas.core.frame.DataFrame'>\n",
      "Int64Index: 7927 entries, 0 to 8806\n",
      "Data columns (total 15 columns):\n",
      " #   Column          Non-Null Count  Dtype         \n",
      "---  ------          --------------  -----         \n",
      " 0   show_id         7927 non-null   object        \n",
      " 1   type            7927 non-null   object        \n",
      " 2   title           7927 non-null   object        \n",
      " 3   director        7927 non-null   object        \n",
      " 4   cast            7927 non-null   object        \n",
      " 5   country         7927 non-null   object        \n",
      " 6   date_added      7927 non-null   datetime64[ns]\n",
      " 7   release_year    7927 non-null   int64         \n",
      " 8   rating          7927 non-null   object        \n",
      " 9   duration        7927 non-null   object        \n",
      " 10  listed_in       7927 non-null   object        \n",
      " 11  description     7927 non-null   object        \n",
      " 12  Month_uploaded  7927 non-null   float64       \n",
      " 13  Year_uploaded   7927 non-null   float64       \n",
      " 14  MonthName       7927 non-null   object        \n",
      "dtypes: datetime64[ns](1), float64(2), int64(1), object(11)\n",
      "memory usage: 990.9+ KB\n"
     ]
    }
   ],
   "source": [
    "data.info()"
   ]
  },
  {
   "cell_type": "code",
   "execution_count": 17,
   "id": "2de585b9",
   "metadata": {},
   "outputs": [
    {
     "data": {
      "image/png": "[encoded data removed]",
      "text/plain": [
       "<Figure size 432x288 with 1 Axes>"
      ]
     },
     "metadata": {},
     "output_type": "display_data"
    }
   ],
   "source": [
    "sns.set(style=\"darkgrid\")\n",
    "ax = sns.countplot(x=\"type\", data=data, palette=\"ocean\")"
   ]
  },
  {
   "cell_type": "markdown",
   "id": "34cb52e8",
   "metadata": {},
   "source": [
    "This bar plot shows the distribution of content types (movies and TV shows) on Netflix. There are 5427 records of movies and 2500 records of TV shows in the data. The key insights from this plot is that higher number of movies could suggest a focus on diverse, one-time content, while more TV shows might indicate a strategy to keep viewers engaged over longer periods.\n",
    "\n",
    "Let us take a look at the data of content type available in both both movies and tv shows according to ratings. "
   ]
  },
  {
   "cell_type": "code",
   "execution_count": 18,
   "id": "e86b82f4",
   "metadata": {},
   "outputs": [
    {
     "data": {
      "image/png": "[encoded data removed]",
      "text/plain": [
       "<Figure size 576x360 with 1 Axes>"
      ]
     },
     "metadata": {},
     "output_type": "display_data"
    }
   ],
   "source": [
    "plt.figure(figsize=(8,5))\n",
    "ax=sns.countplot(data=data, x='rating', hue='type', palette='ocean')\n",
    "plt.title(' Content Type available according to ratings', fontsize=15)\n",
    "plt.xlabel('Rating', fontsize=14)\n",
    "ax.legend(loc='center left', bbox_to_anchor=(0.600,0.90),\n",
    "          ncol=3, fancybox=True, shadow=True)\n",
    "plt.show()"
   ]
  },
  {
   "cell_type": "markdown",
   "id": "ee7bec03",
   "metadata": {},
   "source": [
    "Let's take a look at the data based on countries which have highest number of content available. Here, we visualize the distribution of content ratings. This plot is essential to understand the target audience for Netflix content and how it aligns with the platform's content strategy.\n",
    "\n",
    "A concentration of mature content might suggest targeting an older audience, while more family-friendly ratings indicate a broader target demographic. This information can be beneficial to the industry leader in deciding the distribution of content in respect of the rating of viewers according to the available content. Additionally, it is helpful for people to analyse the movies and tv shows content in respect of the rating they got from the authorized certification committee.\n"
   ]
  },
  {
   "cell_type": "code",
   "execution_count": 19,
   "id": "9cb6f488",
   "metadata": {},
   "outputs": [
    {
     "data": {
      "image/png": "[encoded data removed]",
      "text/plain": [
       "<Figure size 864x576 with 1 Axes>"
      ]
     },
     "metadata": {},
     "output_type": "display_data"
    }
   ],
   "source": [
    "country_top_content = data.query('country == [\"United States\", \"India\", \"United Kingdom\", \"Japan\", \"South Korea\", \"Canada\", \"Spain\", \"France\", \"Mexico\", \"Turkey\"]')\n",
    "country_top_content.head()\n",
    "\n",
    "plt.figure(figsize=(12,8))\n",
    "ax=sns.countplot(data=country_top_content, x='country',hue = 'type', palette='ocean')\n",
    "plt.title('Count of Content Type available in the countries', fontsize=15, fontweight=\"bold\")\n",
    "ax.legend(loc='center left', bbox_to_anchor=(0.70,0.90),\n",
    "          ncol=3, fancybox=True, shadow=True)\n",
    "plt.xlabel('Country', fontsize=14)\n",
    "plt.show()"
   ]
  },
  {
   "cell_type": "markdown",
   "id": "9ec027da",
   "metadata": {},
   "source": [
    "The above plot represents the content according to their types, it can be inference that Japan, South Korea and the United Kingdom are the only countries in which TV shows have more content than movies; it can be thought of as the people tend to watch more TV shows than movies in these countries. In contrast, the content available on Netflix is majorly movies.\n",
    "\n",
    "Observe variations in content across different regions. This can reveal Netflix's market-specific strategies, such as focusing on local content in certain regions to cater to cultural preferences. By visualising the content available according to the geographical data, it would be beneficial to industry leaders to decide which type of content is famous and liked by people to watch in which region.\n",
    "\n",
    "\n"
   ]
  },
  {
   "cell_type": "code",
   "execution_count": 20,
   "id": "806424ba",
   "metadata": {},
   "outputs": [
    {
     "data": {
      "text/plain": [
       "Text(0.5, 0, 'Release Year')"
      ]
     },
     "execution_count": 20,
     "metadata": {},
     "output_type": "execute_result"
    },
    {
     "data": {
      "image/png": "[encoded data removed]",
      "text/plain": [
       "<Figure size 864x576 with 1 Axes>"
      ]
     },
     "metadata": {},
     "output_type": "display_data"
    }
   ],
   "source": [
    "plt.figure(figsize=(12,8))\n",
    "sns.countplot(x='release_year', data=data, palette='ocean')\n",
    "\n",
    "plt.show\n",
    "plt.title('Release year of content available', fontsize=16, fontweight=\"bold\")\n",
    "plt.xlabel('Release Year', fontsize=14)"
   ]
  },
  {
   "cell_type": "markdown",
   "id": "4974fc9b",
   "metadata": {},
   "source": [
    "The graph shows that every year the content released gets increased except the year 2019, 2020 and 2021 which is due to the pandemic of coronavirus. \n",
    "\n",
    "Observing the distribution of content by release year can reveal trends in content production over time. For instance, a recent uptick in the number of titles released might indicate an increase in content creation or acquisition by Netflix. This can also be reflective of the overall growth in the entertainment industry.\n",
    "\n"
   ]
  },
  {
   "cell_type": "code",
   "execution_count": 21,
   "id": "d51d4023",
   "metadata": {},
   "outputs": [
    {
     "data": {
      "text/plain": [
       "Text(0.5, 0, 'Year uploaded at Netflix')"
      ]
     },
     "execution_count": 21,
     "metadata": {},
     "output_type": "execute_result"
    },
    {
     "data": {
      "image/png": "[encoded data removed]",
      "text/plain": [
       "<Figure size 864x576 with 1 Axes>"
      ]
     },
     "metadata": {},
     "output_type": "display_data"
    }
   ],
   "source": [
    "plt.figure(figsize=(12,8))\n",
    "ax = sns.countplot(x=\"Year_uploaded\", data=data, palette=\"ocean\",\n",
    "                  order = data[\"Year_uploaded\"].value_counts().index)\n",
    "plt.show\n",
    "plt.title('Content uploaded over the years', fontsize=16, fontweight=\"bold\")\n",
    "plt.xlabel('Year uploaded at Netflix', fontsize=14)"
   ]
  },
  {
   "cell_type": "markdown",
   "id": "4e7a1562",
   "metadata": {},
   "source": [
    "Analyzing the content upload year can provide insights into Netflix's content acquisition and release strategy. A lag between release year and upload year could suggest a strategy of acquiring older titles, while a shorter lag or same-year uploads indicate a focus on fresh, newly released content. Additionally, a significant increase in uploads during certain years might correlate with business growth phases, market expansions, or competitive responses.\n",
    "\n",
    "It is evident from the above plot that content uploaded on Netflix is in recent years stating the information that people like to watch few old movies on Netflix. Moreover, the same pattern of content reduction in years 2020 and 2021 can be seen in the uploading of content. This information can help industry advisors in deciding which content to upload to Netflix."
   ]
  },
  {
   "cell_type": "code",
   "execution_count": 22,
   "id": "deea2f99",
   "metadata": {},
   "outputs": [
    {
     "name": "stderr",
     "output_type": "stream",
     "text": [
      "/var/folders/6k/j6972thx1t783_9nc09xw1rc0000gn/T/ipykernel_5047/4288943018.py:3: SettingWithCopyWarning: \n",
      "A value is trying to be set on a copy of a slice from a DataFrame.\n",
      "Try using .loc[row_indexer,col_indexer] = value instead\n",
      "\n",
      "See the caveats in the documentation: https://pandas.pydata.org/pandas-docs/stable/user_guide/indexing.html#returning-a-view-versus-a-copy\n",
      "  net_movies['duration']=net_movies['duration'].str.replace(' min','')\n",
      "/var/folders/6k/j6972thx1t783_9nc09xw1rc0000gn/T/ipykernel_5047/4288943018.py:4: SettingWithCopyWarning: \n",
      "A value is trying to be set on a copy of a slice from a DataFrame.\n",
      "Try using .loc[row_indexer,col_indexer] = value instead\n",
      "\n",
      "See the caveats in the documentation: https://pandas.pydata.org/pandas-docs/stable/user_guide/indexing.html#returning-a-view-versus-a-copy\n",
      "  net_movies['duration'] = pd.to_numeric(net_movies['duration'], errors='coerce').astype('Int64')\n"
     ]
    }
   ],
   "source": [
    "net_movies = data[data['type'] == 'Movie']\n",
    "\n",
    "net_movies['duration']=net_movies['duration'].str.replace(' min','')\n",
    "net_movies['duration'] = pd.to_numeric(net_movies['duration'], errors='coerce').astype('Int64')\n"
   ]
  },
  {
   "cell_type": "code",
   "execution_count": 23,
   "id": "0918a7fb",
   "metadata": {},
   "outputs": [
    {
     "data": {
      "text/plain": [
       "<AxesSubplot:xlabel='duration', ylabel='Density'>"
      ]
     },
     "execution_count": 23,
     "metadata": {},
     "output_type": "execute_result"
    },
    {
     "data": {
      "image/png": "[encoded data removed]",
      "text/plain": [
       "<Figure size 432x288 with 1 Axes>"
      ]
     },
     "metadata": {},
     "output_type": "display_data"
    }
   ],
   "source": [
    "sns.set(style=\"darkgrid\")\n",
    "sns.kdeplot(data = net_movies['duration'], shade=True)"
   ]
  },
  {
   "cell_type": "markdown",
   "id": "ad8941ee",
   "metadata": {},
   "source": [
    "A good amount of movies on Netflix are among the duration of 75-120 mins. It is acceptable considering the fact that a fair amount of the audience cannot watch a 3 hour movie in one sitting."
   ]
  },
  {
   "cell_type": "code",
   "execution_count": 24,
   "id": "dc72e8a4",
   "metadata": {},
   "outputs": [
    {
     "name": "stderr",
     "output_type": "stream",
     "text": [
      "/var/folders/6k/j6972thx1t783_9nc09xw1rc0000gn/T/ipykernel_5047/3214620782.py:3: SettingWithCopyWarning: \n",
      "A value is trying to be set on a copy of a slice from a DataFrame.\n",
      "Try using .loc[row_indexer,col_indexer] = value instead\n",
      "\n",
      "See the caveats in the documentation: https://pandas.pydata.org/pandas-docs/stable/user_guide/indexing.html#returning-a-view-versus-a-copy\n",
      "  net_shows['country'] = net_shows['country'].fillna('Unknown')\n",
      "/var/folders/6k/j6972thx1t783_9nc09xw1rc0000gn/T/ipykernel_5047/3214620782.py:4: SettingWithCopyWarning: \n",
      "A value is trying to be set on a copy of a slice from a DataFrame.\n",
      "Try using .loc[row_indexer,col_indexer] = value instead\n",
      "\n",
      "See the caveats in the documentation: https://pandas.pydata.org/pandas-docs/stable/user_guide/indexing.html#returning-a-view-versus-a-copy\n",
      "  net_shows['duration'] = net_shows['duration'].str.replace(' Season','')\n",
      "/var/folders/6k/j6972thx1t783_9nc09xw1rc0000gn/T/ipykernel_5047/3214620782.py:5: SettingWithCopyWarning: \n",
      "A value is trying to be set on a copy of a slice from a DataFrame.\n",
      "Try using .loc[row_indexer,col_indexer] = value instead\n",
      "\n",
      "See the caveats in the documentation: https://pandas.pydata.org/pandas-docs/stable/user_guide/indexing.html#returning-a-view-versus-a-copy\n",
      "  net_shows['duration'] = net_shows['duration'].str.replace('s','')\n",
      "/var/folders/6k/j6972thx1t783_9nc09xw1rc0000gn/T/ipykernel_5047/3214620782.py:6: SettingWithCopyWarning: \n",
      "A value is trying to be set on a copy of a slice from a DataFrame.\n",
      "Try using .loc[row_indexer,col_indexer] = value instead\n",
      "\n",
      "See the caveats in the documentation: https://pandas.pydata.org/pandas-docs/stable/user_guide/indexing.html#returning-a-view-versus-a-copy\n",
      "  net_shows['duration'] = net_shows['duration'].astype(str).astype(int)\n"
     ]
    },
    {
     "data": {
      "text/plain": [
       "<AxesSubplot:xlabel='title'>"
      ]
     },
     "execution_count": 24,
     "metadata": {},
     "output_type": "execute_result"
    },
    {
     "data": {
      "image/png": "[encoded data removed]",
      "text/plain": [
       "<Figure size 432x288 with 1 Axes>"
      ]
     },
     "metadata": {},
     "output_type": "display_data"
    }
   ],
   "source": [
    "net_shows = data[data['type'] == 'TV Show']\n",
    "features=['title','duration']\n",
    "net_shows['country'] = net_shows['country'].fillna('Unknown')\n",
    "net_shows['duration'] = net_shows['duration'].str.replace(' Season','')\n",
    "net_shows['duration'] = net_shows['duration'].str.replace('s','')\n",
    "net_shows['duration'] = net_shows['duration'].astype(str).astype(int)\n",
    "\n",
    "t = ['title','duration']\n",
    "top = net_shows[t]\n",
    "\n",
    "top = top.sort_values(by='duration', ascending=False)\n",
    "top20 = top[0:20]\n",
    "top20.plot(kind='bar',x='title',y='duration', color = 'purple')"
   ]
  },
  {
   "cell_type": "markdown",
   "id": "3e8e65df",
   "metadata": {},
   "source": [
    "Top 20 TV Shows that has highest number of seasons are shown. Grey's Anatomy, NCIS and Supernatural are the top three tv series that have highest number of seasons."
   ]
  },
  {
   "cell_type": "markdown",
   "id": "012eb23f",
   "metadata": {},
   "source": [
    "### Model Building: Recommendation system"
   ]
  },
  {
   "cell_type": "markdown",
   "id": "daf49d79",
   "metadata": {},
   "source": [
    "#### Model1 : TF-IDF"
   ]
  },
  {
   "cell_type": "markdown",
   "id": "e52ca73a",
   "metadata": {},
   "source": [
    "TF-IDF (Term Frequency-Inverse Document Frequency) is a technique used to convert textual data into numerical form by assigning weights to individual words/terms within a document or a set of documents. It is commonly used in natural language processing and information retrieval tasks, such as text mining, document classification, and recommendation systems.\n",
    "\n",
    "In Python, libraries like `scikit-learn` provide tools for calculating TF-IDF. This code snippet demonstrates how to transform a collection of text `data['description']` into a TF-IDF matrix using `TfidfVectorizer` from scikit-learn."
   ]
  },
  {
   "cell_type": "code",
   "execution_count": 25,
   "id": "d198f34e",
   "metadata": {},
   "outputs": [
    {
     "data": {
      "text/plain": [
       "(7927, 17855)"
      ]
     },
     "execution_count": 25,
     "metadata": {},
     "output_type": "execute_result"
    }
   ],
   "source": [
    "tfidf = TfidfVectorizer(stop_words='english')\n",
    "\n",
    "data['description'] = data['description'].fillna('')\n",
    "\n",
    "tfidf_matrix = tfidf.fit_transform(data['description'])\n",
    "\n",
    "\n",
    "tfidf_matrix.shape"
   ]
  },
  {
   "cell_type": "markdown",
   "id": "98595050",
   "metadata": {},
   "source": [
    "The Cosine similarity score is used since it is independent of magnitude and is relatively easy and fast to calculate. Cosine similarity is a metric used to measure the similarity between two non-zero vectors by calculating the cosine of the angle between them."
   ]
  },
  {
   "cell_type": "code",
   "execution_count": 26,
   "id": "29ae8729",
   "metadata": {},
   "outputs": [],
   "source": [
    "cosine_sim = linear_kernel(tfidf_matrix, tfidf_matrix)\n",
    "indices = pd.Series(data.index, index=data['title']).drop_duplicates()"
   ]
  },
  {
   "cell_type": "code",
   "execution_count": 27,
   "id": "c82621d4",
   "metadata": {},
   "outputs": [],
   "source": [
    "def get_recommendations(title, cosine_sim=cosine_sim):\n",
    "    idx = indices[title]\n",
    "    sim_scores = list(enumerate(cosine_sim[idx]))\n",
    "    sim_scores = sorted(sim_scores, key=lambda x: x[1], reverse=True)\n",
    "    sim_scores = sim_scores[1:11]\n",
    "    movie_indices = [i[0] for i in sim_scores]\n",
    "    return data['title'].iloc[movie_indices]"
   ]
  },
  {
   "cell_type": "markdown",
   "id": "5aa4a53c",
   "metadata": {},
   "source": [
    "The function `get_recommendations` is designed to provide top 10 movie recommendations based on cosine similarity scores calculated from a previously computed cosine_sim matrix."
   ]
  },
  {
   "cell_type": "code",
   "execution_count": 28,
   "id": "54a8cbd1",
   "metadata": {},
   "outputs": [
    {
     "data": {
      "text/plain": [
       "5607        Katherine Ryan: In Trouble\n",
       "4307                           The Fix\n",
       "5315         Ryan Hamilton: Happy Face\n",
       "4664                  Age of Rebellion\n",
       "1934                             Bully\n",
       "5646    Jen Kirkman: Just Keep Livin’?\n",
       "4235        Gina Yashere: Skinny B*tch\n",
       "3547                    Back to School\n",
       "8248             The Christmas Project\n",
       "7583                    Night Comes On\n",
       "Name: title, dtype: object"
      ]
     },
     "execution_count": 28,
     "metadata": {},
     "output_type": "execute_result"
    }
   ],
   "source": [
    "get_recommendations('Peaky Blinders')"
   ]
  },
  {
   "cell_type": "code",
   "execution_count": 29,
   "id": "461a3456",
   "metadata": {},
   "outputs": [
    {
     "data": {
      "text/plain": [
       "2464              Grandmother's Farm Part 2\n",
       "1989                                   Baby\n",
       "3506                       The Hockey Girls\n",
       "2418               Before the Summer Crowds\n",
       "6531                                Convict\n",
       "3230                              The Crime\n",
       "4269                           Jojo's World\n",
       "1565                   Just The Way You Are\n",
       "2020                                    Dhh\n",
       "3664    Anohana: The Flower We Saw That Day\n",
       "Name: title, dtype: object"
      ]
     },
     "execution_count": 29,
     "metadata": {},
     "output_type": "execute_result"
    }
   ],
   "source": [
    "get_recommendations('Mortel')"
   ]
  },
  {
   "cell_type": "markdown",
   "id": "47a670e8",
   "metadata": {},
   "source": [
    "#### Model2 : CountVectorizer"
   ]
  },
  {
   "cell_type": "markdown",
   "id": "88889901",
   "metadata": {},
   "source": [
    "`CountVectorizer` is a feature extraction technique, used to convert a collection of text documents into a matrix of token counts, representing the frequency of each word (or token) in the documents.\n",
    "\n",
    "`CountVectorizer` is provided by the scikit-learn library in Python.\n",
    "\n",
    "Creating a 'soup' or a 'bag of words' for all rows. We are using a method called `create_soup()` to combine multiple columns of the dataset into a single `soup` column."
   ]
  },
  {
   "cell_type": "code",
   "execution_count": 30,
   "id": "5e6da5ef",
   "metadata": {},
   "outputs": [],
   "source": [
    "def create_soup(x):\n",
    "    return x['title']+ ' ' + x['director'] + ' ' + x['cast'] + ' ' +x['listed_in']+' '+ x['description']\n",
    "\n",
    "data['soup'] = data.apply(create_soup, axis=1)\n",
    "\n",
    "count = CountVectorizer(stop_words='english')\n",
    "count_matrix = count.fit_transform(data['soup'])\n",
    "\n",
    "cosine_sim2 = cosine_similarity(count_matrix, count_matrix)\n",
    "data = data.reset_index()\n",
    "indices = pd.Series(data.index, index=data['title'])\n",
    "\n",
    "\n",
    "def get_recommendations_new(title, cosine_sim=cosine_sim):\n",
    "    title = title\n",
    "    idx = indices[title]\n",
    "    sim_scores = list(enumerate(cosine_sim[idx]))\n",
    "    sim_scores = sorted(sim_scores, key=lambda x: x[1], reverse=True)\n",
    "    sim_scores = sim_scores[1:11]\n",
    "    movie_indices = [i[0] for i in sim_scores]\n",
    "    return data['title'].iloc[movie_indices]"
   ]
  },
  {
   "cell_type": "markdown",
   "id": "3a8f9a52",
   "metadata": {},
   "source": [
    "This code defines the `get_recommendations_new()` function that takes a movie title as input and returns the top 10 recommended movies based on their similarity to the input movie, calculated using cosine similarity between their 'soup' columns."
   ]
  },
  {
   "cell_type": "code",
   "execution_count": 31,
   "id": "166aca88",
   "metadata": {},
   "outputs": [
    {
     "data": {
      "text/plain": [
       "974                    3 Idiots\n",
       "884            Taare Zameen Par\n",
       "4241                      Sanju\n",
       "6569                     Janaan\n",
       "5389            Mumbai Cha Raja\n",
       "6947                   No Entry\n",
       "2900            Dil Dhadakne Do\n",
       "109                     Shikara\n",
       "4189           Paan Singh Tomar\n",
       "882     Jaane Tu... Ya Jaane Na\n",
       "Name: title, dtype: object"
      ]
     },
     "execution_count": 31,
     "metadata": {},
     "output_type": "execute_result"
    }
   ],
   "source": [
    "get_recommendations_new('PK', cosine_sim2)"
   ]
  },
  {
   "cell_type": "code",
   "execution_count": 32,
   "id": "a7ada6ab",
   "metadata": {},
   "outputs": [
    {
     "data": {
      "text/plain": [
       "4532                  Kiss Me First\n",
       "4747    The Frankenstein Chronicles\n",
       "2804                    Giri / Haji\n",
       "1997                       Get Even\n",
       "5387                       Paranoid\n",
       "3545                 Killer Ratings\n",
       "4981                        Apaches\n",
       "1810                   Criminal: UK\n",
       "6907                 My Hotter Half\n",
       "6736                     London Spy\n",
       "Name: title, dtype: object"
      ]
     },
     "execution_count": 32,
     "metadata": {},
     "output_type": "execute_result"
    }
   ],
   "source": [
    "get_recommendations_new('Peaky Blinders', cosine_sim2)"
   ]
  },
  {
   "cell_type": "markdown",
   "id": "4c6203ff",
   "metadata": {},
   "source": [
    "#### Movies or TV Shows made from books"
   ]
  },
  {
   "cell_type": "markdown",
   "id": "e1a7668d",
   "metadata": {},
   "source": [
    "In order to compare the Movies and TV shows with books, we need data of books. Dataset utilized for this project is provided at https://www.kaggle.com/datasets/zygmunt/goodbooks-10k/data?select=books.csv. This tabular dataset consists of listings of all books, authors,\toriginal publication year,\toriginal title, ratings etc. It has 10000 rows and 23 columns."
   ]
  },
  {
   "cell_type": "code",
   "execution_count": 33,
   "id": "74ff038d",
   "metadata": {},
   "outputs": [],
   "source": [
    "books['original_title'] = books['original_title'].str.lower()\n",
    "data['title'] = data['title'].str.lower()"
   ]
  },
  {
   "cell_type": "markdown",
   "id": "d2a44682",
   "metadata": {},
   "source": [
    "`data.merge()` performs an inner merge between the netflix data DataFrame and the books DataFrame based on the `title` column in the netflix data DataFrame and the `original_title` column in the books DataFrame. This merge operation combines the two DataFrames where the titles match, considering that titles are now in lowercase for consistency."
   ]
  },
  {
   "cell_type": "code",
   "execution_count": 34,
   "id": "ab0a17f2",
   "metadata": {},
   "outputs": [
    {
     "data": {
      "text/html": [
       "<div>\n",
       "<style scoped>\n",
       "    .dataframe tbody tr th:only-of-type {\n",
       "        vertical-align: middle;\n",
       "    }\n",
       "\n",
       "    .dataframe tbody tr th {\n",
       "        vertical-align: top;\n",
       "    }\n",
       "\n",
       "    .dataframe thead th {\n",
       "        text-align: right;\n",
       "    }\n",
       "</style>\n",
       "<table border=\"1\" class=\"dataframe\">\n",
       "  <thead>\n",
       "    <tr style=\"text-align: right;\">\n",
       "      <th></th>\n",
       "      <th>index</th>\n",
       "      <th>show_id</th>\n",
       "      <th>type</th>\n",
       "      <th>title_x</th>\n",
       "      <th>director</th>\n",
       "      <th>cast</th>\n",
       "      <th>country</th>\n",
       "      <th>date_added</th>\n",
       "      <th>release_year</th>\n",
       "      <th>rating</th>\n",
       "      <th>...</th>\n",
       "      <th>ratings_count</th>\n",
       "      <th>work_ratings_count</th>\n",
       "      <th>work_text_reviews_count</th>\n",
       "      <th>ratings_1</th>\n",
       "      <th>ratings_2</th>\n",
       "      <th>ratings_3</th>\n",
       "      <th>ratings_4</th>\n",
       "      <th>ratings_5</th>\n",
       "      <th>image_url</th>\n",
       "      <th>small_image_url</th>\n",
       "    </tr>\n",
       "  </thead>\n",
       "  <tbody>\n",
       "    <tr>\n",
       "      <th>0</th>\n",
       "      <td>86</td>\n",
       "      <td>s87</td>\n",
       "      <td>Movie</td>\n",
       "      <td>prey</td>\n",
       "      <td>Thomas Sieben</td>\n",
       "      <td>David Kross, Hanno Koffler, Maria Ehrich, Robe...</td>\n",
       "      <td>NA</td>\n",
       "      <td>2021-09-10</td>\n",
       "      <td>2021</td>\n",
       "      <td>TV-MA</td>\n",
       "      <td>...</td>\n",
       "      <td>131352</td>\n",
       "      <td>136307</td>\n",
       "      <td>2700</td>\n",
       "      <td>2481</td>\n",
       "      <td>11391</td>\n",
       "      <td>40947</td>\n",
       "      <td>48338</td>\n",
       "      <td>33150</td>\n",
       "      <td>https://s.gr-assets.com/assets/nophoto/book/11...</td>\n",
       "      <td>https://s.gr-assets.com/assets/nophoto/book/50...</td>\n",
       "    </tr>\n",
       "    <tr>\n",
       "      <th>1</th>\n",
       "      <td>95</td>\n",
       "      <td>s96</td>\n",
       "      <td>TV Show</td>\n",
       "      <td>the circle</td>\n",
       "      <td>NA</td>\n",
       "      <td>Michelle Buteau</td>\n",
       "      <td>United States, United Kingdom</td>\n",
       "      <td>2021-09-08</td>\n",
       "      <td>2021</td>\n",
       "      <td>TV-MA</td>\n",
       "      <td>...</td>\n",
       "      <td>109412</td>\n",
       "      <td>129023</td>\n",
       "      <td>17954</td>\n",
       "      <td>5667</td>\n",
       "      <td>16425</td>\n",
       "      <td>41080</td>\n",
       "      <td>44562</td>\n",
       "      <td>21289</td>\n",
       "      <td>https://images.gr-assets.com/books/1376419833m...</td>\n",
       "      <td>https://images.gr-assets.com/books/1376419833s...</td>\n",
       "    </tr>\n",
       "    <tr>\n",
       "      <th>2</th>\n",
       "      <td>138</td>\n",
       "      <td>s139</td>\n",
       "      <td>Movie</td>\n",
       "      <td>dear john</td>\n",
       "      <td>Lasse Hallström</td>\n",
       "      <td>Channing Tatum, Amanda Seyfried, Richard Jenki...</td>\n",
       "      <td>United States</td>\n",
       "      <td>2021-09-01</td>\n",
       "      <td>2010</td>\n",
       "      <td>PG-13</td>\n",
       "      <td>...</td>\n",
       "      <td>441062</td>\n",
       "      <td>454781</td>\n",
       "      <td>10626</td>\n",
       "      <td>9683</td>\n",
       "      <td>25220</td>\n",
       "      <td>94711</td>\n",
       "      <td>145202</td>\n",
       "      <td>179965</td>\n",
       "      <td>https://images.gr-assets.com/books/1397749854m...</td>\n",
       "      <td>https://images.gr-assets.com/books/1397749854s...</td>\n",
       "    </tr>\n",
       "    <tr>\n",
       "      <th>3</th>\n",
       "      <td>171</td>\n",
       "      <td>s172</td>\n",
       "      <td>Movie</td>\n",
       "      <td>same kind of different as me</td>\n",
       "      <td>Michael Carney</td>\n",
       "      <td>Greg Kinnear, Renée Zellweger, Djimon Hounsou,...</td>\n",
       "      <td>United States</td>\n",
       "      <td>2021-09-01</td>\n",
       "      <td>2017</td>\n",
       "      <td>PG-13</td>\n",
       "      <td>...</td>\n",
       "      <td>52964</td>\n",
       "      <td>58121</td>\n",
       "      <td>6412</td>\n",
       "      <td>712</td>\n",
       "      <td>2248</td>\n",
       "      <td>8544</td>\n",
       "      <td>18957</td>\n",
       "      <td>27660</td>\n",
       "      <td>https://s.gr-assets.com/assets/nophoto/book/11...</td>\n",
       "      <td>https://s.gr-assets.com/assets/nophoto/book/50...</td>\n",
       "    </tr>\n",
       "    <tr>\n",
       "      <th>4</th>\n",
       "      <td>273</td>\n",
       "      <td>s274</td>\n",
       "      <td>TV Show</td>\n",
       "      <td>gone for good</td>\n",
       "      <td>Juan Carlos Medina</td>\n",
       "      <td>Finnegan Oldfield, Nicolas Duvauchelle, Guilla...</td>\n",
       "      <td>France</td>\n",
       "      <td>2021-08-13</td>\n",
       "      <td>2021</td>\n",
       "      <td>TV-MA</td>\n",
       "      <td>...</td>\n",
       "      <td>29777</td>\n",
       "      <td>33482</td>\n",
       "      <td>1759</td>\n",
       "      <td>197</td>\n",
       "      <td>847</td>\n",
       "      <td>6057</td>\n",
       "      <td>14641</td>\n",
       "      <td>11740</td>\n",
       "      <td>https://s.gr-assets.com/assets/nophoto/book/11...</td>\n",
       "      <td>https://s.gr-assets.com/assets/nophoto/book/50...</td>\n",
       "    </tr>\n",
       "  </tbody>\n",
       "</table>\n",
       "<p>5 rows × 40 columns</p>\n",
       "</div>"
      ],
      "text/plain": [
       "   index show_id     type                       title_x            director  \\\n",
       "0     86     s87    Movie                          prey       Thomas Sieben   \n",
       "1     95     s96  TV Show                    the circle                  NA   \n",
       "2    138    s139    Movie                     dear john     Lasse Hallström   \n",
       "3    171    s172    Movie  same kind of different as me      Michael Carney   \n",
       "4    273    s274  TV Show                 gone for good  Juan Carlos Medina   \n",
       "\n",
       "                                                cast  \\\n",
       "0  David Kross, Hanno Koffler, Maria Ehrich, Robe...   \n",
       "1                                    Michelle Buteau   \n",
       "2  Channing Tatum, Amanda Seyfried, Richard Jenki...   \n",
       "3  Greg Kinnear, Renée Zellweger, Djimon Hounsou,...   \n",
       "4  Finnegan Oldfield, Nicolas Duvauchelle, Guilla...   \n",
       "\n",
       "                         country date_added  release_year rating  ...  \\\n",
       "0                             NA 2021-09-10          2021  TV-MA  ...   \n",
       "1  United States, United Kingdom 2021-09-08          2021  TV-MA  ...   \n",
       "2                  United States 2021-09-01          2010  PG-13  ...   \n",
       "3                  United States 2021-09-01          2017  PG-13  ...   \n",
       "4                         France 2021-08-13          2021  TV-MA  ...   \n",
       "\n",
       "  ratings_count work_ratings_count work_text_reviews_count  ratings_1  \\\n",
       "0        131352             136307                    2700       2481   \n",
       "1        109412             129023                   17954       5667   \n",
       "2        441062             454781                   10626       9683   \n",
       "3         52964              58121                    6412        712   \n",
       "4         29777              33482                    1759        197   \n",
       "\n",
       "   ratings_2 ratings_3 ratings_4  ratings_5  \\\n",
       "0      11391     40947     48338      33150   \n",
       "1      16425     41080     44562      21289   \n",
       "2      25220     94711    145202     179965   \n",
       "3       2248      8544     18957      27660   \n",
       "4        847      6057     14641      11740   \n",
       "\n",
       "                                           image_url  \\\n",
       "0  https://s.gr-assets.com/assets/nophoto/book/11...   \n",
       "1  https://images.gr-assets.com/books/1376419833m...   \n",
       "2  https://images.gr-assets.com/books/1397749854m...   \n",
       "3  https://s.gr-assets.com/assets/nophoto/book/11...   \n",
       "4  https://s.gr-assets.com/assets/nophoto/book/11...   \n",
       "\n",
       "                                     small_image_url  \n",
       "0  https://s.gr-assets.com/assets/nophoto/book/50...  \n",
       "1  https://images.gr-assets.com/books/1376419833s...  \n",
       "2  https://images.gr-assets.com/books/1397749854s...  \n",
       "3  https://s.gr-assets.com/assets/nophoto/book/50...  \n",
       "4  https://s.gr-assets.com/assets/nophoto/book/50...  \n",
       "\n",
       "[5 rows x 40 columns]"
      ]
     },
     "execution_count": 34,
     "metadata": {},
     "output_type": "execute_result"
    }
   ],
   "source": [
    "t = data.merge(books, left_on='title', right_on='original_title', how=\"inner\")\n",
    "t.head()"
   ]
  },
  {
   "cell_type": "code",
   "execution_count": 37,
   "id": "9185a1c6",
   "metadata": {},
   "outputs": [
    {
     "name": "stdout",
     "output_type": "stream",
     "text": [
      "224 7927\n"
     ]
    },
    {
     "data": {
      "image/png": "[encoded data removed]",
      "text/plain": [
       "<Figure size 432x288 with 1 Axes>"
      ]
     },
     "metadata": {},
     "output_type": "display_data"
    }
   ],
   "source": [
    "labels = ['Shows from books','Shows not from books']\n",
    "values = [t.shape[0],data.shape[0]]\n",
    "print(t.shape[0],data.shape[0])\n",
    "\n",
    "plt.pie(values,labels = labels,colors= ['blue','purple'],autopct='%1.2f%%',startangle=360)\n",
    "plt.show()"
   ]
  },
  {
   "cell_type": "markdown",
   "id": "fe9c8855",
   "metadata": {},
   "source": [
    "It can be seen that 224 out of 7927 shows streamed on netflix are made from books."
   ]
  },
  {
   "cell_type": "markdown",
   "id": "c886424f",
   "metadata": {},
   "source": [
    "### Conclusion"
   ]
  },
  {
   "cell_type": "markdown",
   "id": "817cd6e3",
   "metadata": {},
   "source": [
    "Analysis of Netflix content data illuminates diverse facets, ranging from global content distribution to local preferences and adaptation trends. Leveraging user preferences, regional content nuances, and genre-specific trends can enhance personalized recommendations, improving user engagement and satisfaction. Analyzing the percentage of movies or TV shows on Netflix inspired by books provides valuable information about the adaptation trend. Moving forward, continual analysis and adaptation to changing trends remain pivotal in Netflix's sustained success and audience satisfaction."
   ]
  }
 ],
 "metadata": {
  "kernelspec": {
   "display_name": "Python 3 (ipykernel)",
   "language": "python",
   "name": "python3"
  },
  "language_info": {
   "codemirror_mode": {
    "name": "ipython",
    "version": 3
   },
   "file_extension": ".py",
   "mimetype": "text/x-python",
   "name": "python",
   "nbconvert_exporter": "python",
   "pygments_lexer": "ipython3",
   "version": "3.9.7"
  }
 },
 "nbformat": 4,
 "nbformat_minor": 5
}
